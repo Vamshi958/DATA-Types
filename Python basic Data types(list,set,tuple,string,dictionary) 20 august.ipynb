{
 "cells": [
  {
   "cell_type": "code",
   "execution_count": 1,
   "id": "e77888bd-7fe9-4410-b01e-3dbd6c41ccdc",
   "metadata": {},
   "outputs": [],
   "source": [
    "l = []  #list -collection of heterogeneous data"
   ]
  },
  {
   "cell_type": "markdown",
   "id": "7a91ab96-cad2-4e2e-af1e-2a7914ad615e",
   "metadata": {},
   "source": [
    "list - mutable entity,you can change any element at any time at given index []"
   ]
  },
  {
   "cell_type": "code",
   "execution_count": 2,
   "id": "4bbab827-77af-4d4e-90f3-18e5d0c94a9b",
   "metadata": {},
   "outputs": [
    {
     "data": {
      "text/plain": [
       "list"
      ]
     },
     "execution_count": 2,
     "metadata": {},
     "output_type": "execute_result"
    }
   ],
   "source": [
    "type(l)"
   ]
  },
  {
   "cell_type": "code",
   "execution_count": 3,
   "id": "d076981b-d9d2-4d02-95b3-8191b95f23dc",
   "metadata": {},
   "outputs": [],
   "source": [
    "l1 = [1,2,3,4,5,\"vamshi\",\"bodige\",2+6j,1.0,True,[1,2,3,4]] #we are able to keep any type of data & we can store list inside list"
   ]
  },
  {
   "cell_type": "code",
   "execution_count": 4,
   "id": "01b20a4b-a53a-4425-bf59-2cb7f6cc8537",
   "metadata": {},
   "outputs": [
    {
     "data": {
      "text/plain": [
       "[1, 2, 3, 4, 5, 'vamshi', 'bodige', (2+6j), 1.0, True, [1, 2, 3, 4]]"
      ]
     },
     "execution_count": 4,
     "metadata": {},
     "output_type": "execute_result"
    }
   ],
   "source": [
    "l1"
   ]
  },
  {
   "cell_type": "code",
   "execution_count": 5,
   "id": "9acc50b3-0767-46bc-9697-2ff1043f41b4",
   "metadata": {},
   "outputs": [],
   "source": [
    "s = 'fsfs3234&^^^*'"
   ]
  },
  {
   "cell_type": "code",
   "execution_count": 6,
   "id": "bab969d1-4c5e-49fa-a628-5fc736d5ec94",
   "metadata": {},
   "outputs": [
    {
     "data": {
      "text/plain": [
       "list"
      ]
     },
     "execution_count": 6,
     "metadata": {},
     "output_type": "execute_result"
    }
   ],
   "source": [
    "type(l1)"
   ]
  },
  {
   "cell_type": "code",
   "execution_count": 7,
   "id": "d8a6837e-0e6d-46b1-86a0-fbc0ec0c53f1",
   "metadata": {},
   "outputs": [
    {
     "data": {
      "text/plain": [
       "'vamshi'"
      ]
     },
     "execution_count": 7,
     "metadata": {},
     "output_type": "execute_result"
    }
   ],
   "source": [
    "#list have some indexes\n",
    "l1[5]"
   ]
  },
  {
   "cell_type": "code",
   "execution_count": 8,
   "id": "f25b8e2c-09f3-49f4-b15a-46d112bcab63",
   "metadata": {},
   "outputs": [
    {
     "data": {
      "text/plain": [
       "'bodige'"
      ]
     },
     "execution_count": 8,
     "metadata": {},
     "output_type": "execute_result"
    }
   ],
   "source": [
    "l1[6]"
   ]
  },
  {
   "cell_type": "code",
   "execution_count": 9,
   "id": "8eb57c67-3b1d-4bdb-a49f-2aa25cde26ee",
   "metadata": {},
   "outputs": [
    {
     "data": {
      "text/plain": [
       "True"
      ]
     },
     "execution_count": 9,
     "metadata": {},
     "output_type": "execute_result"
    }
   ],
   "source": [
    "l1[9]"
   ]
  },
  {
   "cell_type": "code",
   "execution_count": 10,
   "id": "b9d8ce68-2e43-4e48-aa5c-54a81dfd24fd",
   "metadata": {},
   "outputs": [
    {
     "data": {
      "text/plain": [
       "[1, 2, 3, 4]"
      ]
     },
     "execution_count": 10,
     "metadata": {},
     "output_type": "execute_result"
    }
   ],
   "source": [
    "l1[10] or l1[-1]"
   ]
  },
  {
   "cell_type": "code",
   "execution_count": 11,
   "id": "2b647bef-f4da-4265-b408-2a7d30522219",
   "metadata": {},
   "outputs": [
    {
     "data": {
      "text/plain": [
       "2"
      ]
     },
     "execution_count": 11,
     "metadata": {},
     "output_type": "execute_result"
    }
   ],
   "source": [
    "l1[10][1] #we can extract element inside list of list"
   ]
  },
  {
   "cell_type": "code",
   "execution_count": 12,
   "id": "360213af-96f3-4cd7-8de4-1073fd836335",
   "metadata": {},
   "outputs": [
    {
     "data": {
      "text/plain": [
       "[1, 2, 3, 4]"
      ]
     },
     "execution_count": 12,
     "metadata": {},
     "output_type": "execute_result"
    }
   ],
   "source": [
    "l1[0:4] #slicing upper bound -1"
   ]
  },
  {
   "cell_type": "code",
   "execution_count": 13,
   "id": "7747f7a2-54ec-4e47-b017-c6b946711f84",
   "metadata": {},
   "outputs": [],
   "source": [
    "l2 = [3,4,5,'pwskills','vamshi']"
   ]
  },
  {
   "cell_type": "code",
   "execution_count": 14,
   "id": "a97139e5-e150-4254-969d-f68d4657a1e2",
   "metadata": {},
   "outputs": [
    {
     "data": {
      "text/plain": [
       "[1,\n",
       " 2,\n",
       " 3,\n",
       " 4,\n",
       " 5,\n",
       " 'vamshi',\n",
       " 'bodige',\n",
       " (2+6j),\n",
       " 1.0,\n",
       " True,\n",
       " [1, 2, 3, 4],\n",
       " 3,\n",
       " 4,\n",
       " 5,\n",
       " 'pwskills',\n",
       " 'vamshi']"
      ]
     },
     "execution_count": 14,
     "metadata": {},
     "output_type": "execute_result"
    }
   ],
   "source": [
    "l1+l2 #list concatination"
   ]
  },
  {
   "cell_type": "code",
   "execution_count": 15,
   "id": "5095b1fa-1948-4dfd-873f-debc64bb0452",
   "metadata": {},
   "outputs": [
    {
     "ename": "TypeError",
     "evalue": "can only concatenate list (not \"str\") to list",
     "output_type": "error",
     "traceback": [
      "\u001b[0;31m---------------------------------------------------------------------------\u001b[0m",
      "\u001b[0;31mTypeError\u001b[0m                                 Traceback (most recent call last)",
      "Cell \u001b[0;32mIn[15], line 1\u001b[0m\n\u001b[0;32m----> 1\u001b[0m \u001b[43ml2\u001b[49m\u001b[43m \u001b[49m\u001b[38;5;241;43m+\u001b[39;49m\u001b[43m \u001b[49m\u001b[38;5;124;43m'\u001b[39;49m\u001b[38;5;124;43mvamshi\u001b[39;49m\u001b[38;5;124;43m'\u001b[39;49m \u001b[38;5;66;03m#it wont work bcz for concatination two elements in same format ex.string here\u001b[39;00m\n",
      "\u001b[0;31mTypeError\u001b[0m: can only concatenate list (not \"str\") to list"
     ]
    }
   ],
   "source": [
    "l2 + 'vamshi' #it wont work bcz for concatination two elements in same format ex.string here"
   ]
  },
  {
   "cell_type": "code",
   "execution_count": 16,
   "id": "220544da-9497-41a4-b5d2-9e4c8e98e0ca",
   "metadata": {},
   "outputs": [
    {
     "data": {
      "text/plain": [
       "['v', 'a', 'm', 's', 'h', 'i']"
      ]
     },
     "execution_count": 16,
     "metadata": {},
     "output_type": "execute_result"
    }
   ],
   "source": [
    "list('vamshi') #list as a function it will divide whole character"
   ]
  },
  {
   "cell_type": "code",
   "execution_count": 17,
   "id": "432448a2-51e7-4d62-bfee-1db936008bbf",
   "metadata": {},
   "outputs": [
    {
     "ename": "TypeError",
     "evalue": "'int' object is not iterable",
     "output_type": "error",
     "traceback": [
      "\u001b[0;31m---------------------------------------------------------------------------\u001b[0m",
      "\u001b[0;31mTypeError\u001b[0m                                 Traceback (most recent call last)",
      "Cell \u001b[0;32mIn[17], line 1\u001b[0m\n\u001b[0;32m----> 1\u001b[0m \u001b[38;5;28;43mlist\u001b[39;49m\u001b[43m(\u001b[49m\u001b[38;5;241;43m345\u001b[39;49m\u001b[43m)\u001b[49m \u001b[38;5;66;03m#not possible for integers\u001b[39;00m\n",
      "\u001b[0;31mTypeError\u001b[0m: 'int' object is not iterable"
     ]
    }
   ],
   "source": [
    "list(345) #not possible for integers"
   ]
  },
  {
   "cell_type": "code",
   "execution_count": 18,
   "id": "9ad9c04e-eb4c-4eb4-8b42-454ced3f558f",
   "metadata": {},
   "outputs": [
    {
     "data": {
      "text/plain": [
       "[3, 4, 5, 'pwskills', 'vamshi', 3, 4, 5, 'pwskills', 'vamshi']"
      ]
     },
     "execution_count": 18,
     "metadata": {},
     "output_type": "execute_result"
    }
   ],
   "source": [
    "l2 *2 #it just rerepeat the list"
   ]
  },
  {
   "cell_type": "code",
   "execution_count": 19,
   "id": "6ef774de-645d-42bd-8cbf-9b7425a5797c",
   "metadata": {},
   "outputs": [
    {
     "data": {
      "text/plain": [
       "[3, 4, 5, 'pwskills', 'vamshi']"
      ]
     },
     "execution_count": 19,
     "metadata": {},
     "output_type": "execute_result"
    }
   ],
   "source": [
    "l2"
   ]
  },
  {
   "cell_type": "code",
   "execution_count": 20,
   "id": "29deedca-6e16-4c17-ae96-aaceb7d014fb",
   "metadata": {},
   "outputs": [
    {
     "data": {
      "text/plain": [
       "3"
      ]
     },
     "execution_count": 20,
     "metadata": {},
     "output_type": "execute_result"
    }
   ],
   "source": [
    "l2[0]"
   ]
  },
  {
   "cell_type": "code",
   "execution_count": 21,
   "id": "9d65e010-2e9d-468d-80f6-76f907349828",
   "metadata": {},
   "outputs": [],
   "source": [
    "l2[0]=300 #you can assign any values at index location"
   ]
  },
  {
   "cell_type": "code",
   "execution_count": 22,
   "id": "27173e06-6f44-4267-b630-324b287479ae",
   "metadata": {},
   "outputs": [
    {
     "data": {
      "text/plain": [
       "[300, 4, 5, 'pwskills', 'vamshi']"
      ]
     },
     "execution_count": 22,
     "metadata": {},
     "output_type": "execute_result"
    }
   ],
   "source": [
    "l2"
   ]
  },
  {
   "cell_type": "markdown",
   "id": "a50b6bc3-4eab-4823-8018-e41270ed179f",
   "metadata": {},
   "source": [
    "Tuple - it is immutable ,only difference between list and tuple and () open brackets"
   ]
  },
  {
   "cell_type": "code",
   "execution_count": 23,
   "id": "4fde1c8f-bf14-4913-8d25-0ded7d699155",
   "metadata": {},
   "outputs": [],
   "source": [
    "t=(0,1,2,3,'vamshi','bodige',4+56j,True)"
   ]
  },
  {
   "cell_type": "code",
   "execution_count": 24,
   "id": "3e7eac22-fe05-4c52-8b75-ba2d86ae99b3",
   "metadata": {},
   "outputs": [
    {
     "data": {
      "text/plain": [
       "tuple"
      ]
     },
     "execution_count": 24,
     "metadata": {},
     "output_type": "execute_result"
    }
   ],
   "source": [
    "type(t)"
   ]
  },
  {
   "cell_type": "code",
   "execution_count": 25,
   "id": "54f418de-9603-4226-8e18-94fdd8e87c11",
   "metadata": {},
   "outputs": [
    {
     "data": {
      "text/plain": [
       "0"
      ]
     },
     "execution_count": 25,
     "metadata": {},
     "output_type": "execute_result"
    }
   ],
   "source": [
    "t[0]"
   ]
  },
  {
   "cell_type": "code",
   "execution_count": 26,
   "id": "4ddf4bd0-5954-455d-91d5-91566d3e6206",
   "metadata": {},
   "outputs": [
    {
     "data": {
      "text/plain": [
       "True"
      ]
     },
     "execution_count": 26,
     "metadata": {},
     "output_type": "execute_result"
    }
   ],
   "source": [
    "t[-1]"
   ]
  },
  {
   "cell_type": "code",
   "execution_count": 27,
   "id": "f81c8b19-0c46-440a-97d4-1974cddd9e88",
   "metadata": {},
   "outputs": [
    {
     "data": {
      "text/plain": [
       "(True, (4+56j), 'bodige', 'vamshi', 3, 2, 1, 0)"
      ]
     },
     "execution_count": 27,
     "metadata": {},
     "output_type": "execute_result"
    }
   ],
   "source": [
    "t[::-1] #reverse"
   ]
  },
  {
   "cell_type": "code",
   "execution_count": 28,
   "id": "2b6f2358-bf2a-46aa-8b6b-f14d9131a2c4",
   "metadata": {},
   "outputs": [
    {
     "data": {
      "text/plain": [
       "(0, 1, 2, 3, 'vamshi', 'bodige', (4+56j), True)"
      ]
     },
     "execution_count": 28,
     "metadata": {},
     "output_type": "execute_result"
    }
   ],
   "source": [
    "t"
   ]
  },
  {
   "cell_type": "code",
   "execution_count": 29,
   "id": "6d280cb3-843d-4a25-8ccf-10ecebb9f633",
   "metadata": {},
   "outputs": [
    {
     "ename": "TypeError",
     "evalue": "'tuple' object does not support item assignment",
     "output_type": "error",
     "traceback": [
      "\u001b[0;31m---------------------------------------------------------------------------\u001b[0m",
      "\u001b[0;31mTypeError\u001b[0m                                 Traceback (most recent call last)",
      "Cell \u001b[0;32mIn[29], line 1\u001b[0m\n\u001b[0;32m----> 1\u001b[0m \u001b[43mt\u001b[49m\u001b[43m[\u001b[49m\u001b[38;5;241;43m0\u001b[39;49m\u001b[43m]\u001b[49m \u001b[38;5;241m=\u001b[39m \u001b[38;5;124m'\u001b[39m\u001b[38;5;124msagar\u001b[39m\u001b[38;5;124m'\u001b[39m \u001b[38;5;66;03m#immutable\u001b[39;00m\n",
      "\u001b[0;31mTypeError\u001b[0m: 'tuple' object does not support item assignment"
     ]
    }
   ],
   "source": [
    "t[0] = 'sagar' #immutable"
   ]
  },
  {
   "cell_type": "code",
   "execution_count": 30,
   "id": "d5b607b0-79ec-47af-9753-5b675f72a8d8",
   "metadata": {},
   "outputs": [],
   "source": [
    "t1=(5,6,7,8,9)"
   ]
  },
  {
   "cell_type": "code",
   "execution_count": 31,
   "id": "10be9e57-488a-440f-88d5-c34413a0538b",
   "metadata": {},
   "outputs": [
    {
     "data": {
      "text/plain": [
       "(0, 1, 2, 3, 'vamshi', 'bodige', (4+56j), True)"
      ]
     },
     "execution_count": 31,
     "metadata": {},
     "output_type": "execute_result"
    }
   ],
   "source": [
    "t"
   ]
  },
  {
   "cell_type": "code",
   "execution_count": 32,
   "id": "485b4c24-5f5b-4803-b80d-e3c05aabbd12",
   "metadata": {},
   "outputs": [
    {
     "data": {
      "text/plain": [
       "(5, 6, 7, 8, 9)"
      ]
     },
     "execution_count": 32,
     "metadata": {},
     "output_type": "execute_result"
    }
   ],
   "source": [
    "t1"
   ]
  },
  {
   "cell_type": "code",
   "execution_count": 33,
   "id": "2b2ed159-d03f-4b77-b47b-78d59f8f82dd",
   "metadata": {},
   "outputs": [
    {
     "data": {
      "text/plain": [
       "(0, 1, 2, 3, 'vamshi', 'bodige', (4+56j), True, 5, 6, 7, 8, 9)"
      ]
     },
     "execution_count": 33,
     "metadata": {},
     "output_type": "execute_result"
    }
   ],
   "source": [
    "t+t1  #concatination is possible"
   ]
  },
  {
   "cell_type": "code",
   "execution_count": 34,
   "id": "5c40d37a-2100-4e78-a90d-71e82c8b3c51",
   "metadata": {},
   "outputs": [
    {
     "data": {
      "text/plain": [
       "(0,\n",
       " 1,\n",
       " 2,\n",
       " 3,\n",
       " 'vamshi',\n",
       " 'bodige',\n",
       " (4+56j),\n",
       " True,\n",
       " 0,\n",
       " 1,\n",
       " 2,\n",
       " 3,\n",
       " 'vamshi',\n",
       " 'bodige',\n",
       " (4+56j),\n",
       " True)"
      ]
     },
     "execution_count": 34,
     "metadata": {},
     "output_type": "execute_result"
    }
   ],
   "source": [
    "t*2"
   ]
  },
  {
   "cell_type": "code",
   "execution_count": 35,
   "id": "ea65a35d-b433-4f45-abce-69187d2665d3",
   "metadata": {},
   "outputs": [
    {
     "data": {
      "text/plain": [
       "(0, 1, 2, 3, 'vamshi', 'bodige', (4+56j), True)"
      ]
     },
     "execution_count": 35,
     "metadata": {},
     "output_type": "execute_result"
    }
   ],
   "source": [
    "t"
   ]
  },
  {
   "cell_type": "code",
   "execution_count": 36,
   "id": "4bd42a8f-5191-437f-ad6a-95f6854bfeee",
   "metadata": {},
   "outputs": [
    {
     "data": {
      "text/plain": [
       "[0, 1, 2, 3, 'vamshi', 'bodige', (4+56j), True]"
      ]
     },
     "execution_count": 36,
     "metadata": {},
     "output_type": "execute_result"
    }
   ],
   "source": [
    "list(t) #convert tuple to list"
   ]
  },
  {
   "cell_type": "code",
   "execution_count": 37,
   "id": "50004f7e-4730-42d4-a7a3-fe5b840b33c6",
   "metadata": {},
   "outputs": [
    {
     "data": {
      "text/plain": [
       "[300, 4, 5, 'pwskills', 'vamshi']"
      ]
     },
     "execution_count": 37,
     "metadata": {},
     "output_type": "execute_result"
    }
   ],
   "source": [
    "l2"
   ]
  },
  {
   "cell_type": "code",
   "execution_count": 38,
   "id": "3bb50b20-365c-49e0-af13-b33d4c18dd8c",
   "metadata": {},
   "outputs": [
    {
     "data": {
      "text/plain": [
       "(300, 4, 5, 'pwskills', 'vamshi')"
      ]
     },
     "execution_count": 38,
     "metadata": {},
     "output_type": "execute_result"
    }
   ],
   "source": [
    "tuple(l2) # converting list to tuple -type casting"
   ]
  },
  {
   "cell_type": "code",
   "execution_count": 39,
   "id": "cfe28a10-b83d-49b1-bc98-c17e80eb1b52",
   "metadata": {},
   "outputs": [
    {
     "data": {
      "text/plain": [
       "8"
      ]
     },
     "execution_count": 39,
     "metadata": {},
     "output_type": "execute_result"
    }
   ],
   "source": [
    "len(t)"
   ]
  },
  {
   "cell_type": "code",
   "execution_count": 40,
   "id": "a7826332-d375-4abc-92d1-416a7e691c7f",
   "metadata": {},
   "outputs": [
    {
     "data": {
      "text/plain": [
       "8"
      ]
     },
     "execution_count": 40,
     "metadata": {},
     "output_type": "execute_result"
    }
   ],
   "source": [
    "len('vam   sh') #len consider even gap/indentation"
   ]
  },
  {
   "cell_type": "code",
   "execution_count": 41,
   "id": "1c0a4f9a-0187-487e-bb63-7a37d9dea992",
   "metadata": {},
   "outputs": [
    {
     "data": {
      "text/plain": [
       "11"
      ]
     },
     "execution_count": 41,
     "metadata": {},
     "output_type": "execute_result"
    }
   ],
   "source": [
    "len(l1)"
   ]
  },
  {
   "cell_type": "markdown",
   "id": "33bcf09b-ce83-4184-b5eb-336b09e4ee3c",
   "metadata": {},
   "source": [
    "set is collection of data you can insert any data type - difference curly braces \n",
    "                                                         it does not allow duplicates ,it always kedep unique entities"
   ]
  },
  {
   "cell_type": "code",
   "execution_count": 42,
   "id": "70d9406f-963d-4bb4-88c3-e3b5b11723b9",
   "metadata": {},
   "outputs": [],
   "source": [
    "#Set-curly braces \n",
    "s = {}"
   ]
  },
  {
   "cell_type": "code",
   "execution_count": 43,
   "id": "e54a7c9a-5e92-4d44-b5da-3ba5b6486683",
   "metadata": {},
   "outputs": [
    {
     "data": {
      "text/plain": [
       "dict"
      ]
     },
     "execution_count": 43,
     "metadata": {},
     "output_type": "execute_result"
    }
   ],
   "source": [
    "type(s)"
   ]
  },
  {
   "cell_type": "code",
   "execution_count": 44,
   "id": "c3f3d664-ae2b-4a73-9af7-22e6da123308",
   "metadata": {},
   "outputs": [],
   "source": [
    "s1 = {1,2,3,4,5,5}"
   ]
  },
  {
   "cell_type": "code",
   "execution_count": 45,
   "id": "9ff1f893-676f-4e70-b341-be57de0a764e",
   "metadata": {},
   "outputs": [
    {
     "data": {
      "text/plain": [
       "set"
      ]
     },
     "execution_count": 45,
     "metadata": {},
     "output_type": "execute_result"
    }
   ],
   "source": [
    "type(s1)"
   ]
  },
  {
   "cell_type": "code",
   "execution_count": 46,
   "id": "6e834fce-8009-4b9f-8b6a-e9367605e65e",
   "metadata": {},
   "outputs": [
    {
     "data": {
      "text/plain": [
       "{1, 2, 3, 4, 5}"
      ]
     },
     "execution_count": 46,
     "metadata": {},
     "output_type": "execute_result"
    }
   ],
   "source": [
    "s1 #it does not allow duplicates or repeated elements"
   ]
  },
  {
   "cell_type": "code",
   "execution_count": 47,
   "id": "0489cce5-d54a-4bf2-8ee4-e0780c09de73",
   "metadata": {},
   "outputs": [],
   "source": [
    "s2 = {'vamshi','vamshi','Vamshi',1,2,3,4,1,2,3,4,5,6,7,8}"
   ]
  },
  {
   "cell_type": "code",
   "execution_count": 48,
   "id": "ce0b67fd-eab7-4ec5-bd15-0d8fca4c7372",
   "metadata": {},
   "outputs": [
    {
     "data": {
      "text/plain": [
       "{1, 2, 3, 4, 5, 6, 7, 8, 'Vamshi', 'vamshi'}"
      ]
     },
     "execution_count": 48,
     "metadata": {},
     "output_type": "execute_result"
    }
   ],
   "source": [
    "s2 #it does not do sorting #python is a case sensitive language"
   ]
  },
  {
   "cell_type": "code",
   "execution_count": 49,
   "id": "e21c8c76-f534-4b6a-88af-d794568d9ea6",
   "metadata": {},
   "outputs": [
    {
     "data": {
      "text/plain": [
       "['vamshi', 2, 3, 4, 1, 5, 6, 7, 8, 'Vamshi']"
      ]
     },
     "execution_count": 49,
     "metadata": {},
     "output_type": "execute_result"
    }
   ],
   "source": [
    "list(s2)"
   ]
  },
  {
   "cell_type": "code",
   "execution_count": 50,
   "id": "7dd54a40-83d0-42b6-995c-05f595fe0abe",
   "metadata": {},
   "outputs": [
    {
     "data": {
      "text/plain": [
       "{300, 4, 5, 'pwskills', 'vamshi'}"
      ]
     },
     "execution_count": 50,
     "metadata": {},
     "output_type": "execute_result"
    }
   ],
   "source": [
    "set(l2)"
   ]
  },
  {
   "cell_type": "code",
   "execution_count": 51,
   "id": "7d712090-40d3-49db-9ca2-aba627009491",
   "metadata": {},
   "outputs": [
    {
     "data": {
      "text/plain": [
       "[1, 2, 3, 4, 5, 'vamshi', 'bodige', (2+6j), 1.0, True, [1, 2, 3, 4]]"
      ]
     },
     "execution_count": 51,
     "metadata": {},
     "output_type": "execute_result"
    }
   ],
   "source": [
    "l1"
   ]
  },
  {
   "cell_type": "code",
   "execution_count": 52,
   "id": "84cd9ee2-06cf-431c-bf4a-7630497ea499",
   "metadata": {},
   "outputs": [
    {
     "ename": "TypeError",
     "evalue": "unhashable type: 'list'",
     "output_type": "error",
     "traceback": [
      "\u001b[0;31m---------------------------------------------------------------------------\u001b[0m",
      "\u001b[0;31mTypeError\u001b[0m                                 Traceback (most recent call last)",
      "Cell \u001b[0;32mIn[52], line 1\u001b[0m\n\u001b[0;32m----> 1\u001b[0m \u001b[38;5;28;43mset\u001b[39;49m\u001b[43m(\u001b[49m\u001b[43ml1\u001b[49m\u001b[43m)\u001b[49m \u001b[38;5;66;03m#list inside list so it wont comparision\u001b[39;00m\n",
      "\u001b[0;31mTypeError\u001b[0m: unhashable type: 'list'"
     ]
    }
   ],
   "source": [
    "set(l1) #list inside list so it wont comparision"
   ]
  },
  {
   "cell_type": "code",
   "execution_count": 53,
   "id": "ac10138c-069f-4856-93c5-69a24fa11c4d",
   "metadata": {},
   "outputs": [
    {
     "data": {
      "text/plain": [
       "('vamshi', 2, 3, 4, 1, 5, 6, 7, 8, 'Vamshi')"
      ]
     },
     "execution_count": 53,
     "metadata": {},
     "output_type": "execute_result"
    }
   ],
   "source": [
    "tuple(s2)"
   ]
  },
  {
   "cell_type": "code",
   "execution_count": 54,
   "id": "b2eef1da-0fd0-4c91-a7f0-4212f6117bd4",
   "metadata": {},
   "outputs": [
    {
     "data": {
      "text/plain": [
       "set"
      ]
     },
     "execution_count": 54,
     "metadata": {},
     "output_type": "execute_result"
    }
   ],
   "source": [
    "type(s2)"
   ]
  },
  {
   "cell_type": "code",
   "execution_count": 55,
   "id": "ed9cb5f1-13f9-499d-a346-ef2e580cb722",
   "metadata": {},
   "outputs": [
    {
     "data": {
      "text/plain": [
       "{1, 2, 3, 4, 5, 6, 7, 8, 'Vamshi', 'vamshi'}"
      ]
     },
     "execution_count": 55,
     "metadata": {},
     "output_type": "execute_result"
    }
   ],
   "source": [
    "s2"
   ]
  },
  {
   "cell_type": "code",
   "execution_count": 56,
   "id": "ab939aaa-12e8-44f8-90c2-34a20bed6da2",
   "metadata": {},
   "outputs": [
    {
     "ename": "TypeError",
     "evalue": "'set' object is not subscriptable",
     "output_type": "error",
     "traceback": [
      "\u001b[0;31m---------------------------------------------------------------------------\u001b[0m",
      "\u001b[0;31mTypeError\u001b[0m                                 Traceback (most recent call last)",
      "Cell \u001b[0;32mIn[56], line 1\u001b[0m\n\u001b[0;32m----> 1\u001b[0m \u001b[43ms2\u001b[49m\u001b[43m[\u001b[49m\u001b[38;5;241;43m0\u001b[39;49m\u001b[43m]\u001b[49m \u001b[38;5;66;03m#it will never allow you to access data but you can operations as list\u001b[39;00m\n\u001b[1;32m      2\u001b[0m        \u001b[38;5;66;03m#if you want to do indexing &slicing you can do to set by type cast it into list\u001b[39;00m\n",
      "\u001b[0;31mTypeError\u001b[0m: 'set' object is not subscriptable"
     ]
    }
   ],
   "source": [
    "s2[0] #it will never allow you to access data but you can operations as list\n",
    "       #if you want to do indexing &slicing you can do to set by type cast it into list"
   ]
  },
  {
   "cell_type": "code",
   "execution_count": 57,
   "id": "54904690-64a3-45ed-a50e-788ee310f1d5",
   "metadata": {},
   "outputs": [],
   "source": [
    "s3 = {345,4565757,23,12,34,56,78,23,44,'vamshi',234.5}"
   ]
  },
  {
   "cell_type": "code",
   "execution_count": 58,
   "id": "f8a29829-3a8a-4bd8-a966-a53a8296b20f",
   "metadata": {},
   "outputs": [
    {
     "data": {
      "text/plain": [
       "{12, 23, 234.5, 34, 345, 44, 4565757, 56, 78, 'vamshi'}"
      ]
     },
     "execution_count": 58,
     "metadata": {},
     "output_type": "execute_result"
    }
   ],
   "source": [
    "s3 #it does not sort data proven"
   ]
  },
  {
   "cell_type": "raw",
   "id": "6a418df1-ead4-4eb9-ad43-604a54deb3fb",
   "metadata": {},
   "source": [
    "Dictionary-kind of collection where you can hold a data in a key and value pairs"
   ]
  },
  {
   "cell_type": "code",
   "execution_count": 59,
   "id": "0e46a629-a64e-4ecb-9d50-7712f1342258",
   "metadata": {},
   "outputs": [],
   "source": [
    "d = {}"
   ]
  },
  {
   "cell_type": "code",
   "execution_count": 60,
   "id": "9e5203ce-350c-4369-ac51-60e503ec74b8",
   "metadata": {},
   "outputs": [
    {
     "data": {
      "text/plain": [
       "dict"
      ]
     },
     "execution_count": 60,
     "metadata": {},
     "output_type": "execute_result"
    }
   ],
   "source": [
    "type(d)"
   ]
  },
  {
   "cell_type": "code",
   "execution_count": 61,
   "id": "db36f00a-b183-4ee0-a90d-b8bcbc0e2c6c",
   "metadata": {},
   "outputs": [],
   "source": [
    "d1 = {'name':'vamshi','surname':\"bodige\",\"study\":[\"masters\",\"bachelors\",],\"number\":1244444}"
   ]
  },
  {
   "cell_type": "code",
   "execution_count": 62,
   "id": "8631be38-4bbc-417b-8979-232c76d1d02f",
   "metadata": {},
   "outputs": [
    {
     "data": {
      "text/plain": [
       "{'name': 'vamshi',\n",
       " 'surname': 'bodige',\n",
       " 'study': ['masters', 'bachelors'],\n",
       " 'number': 1244444}"
      ]
     },
     "execution_count": 62,
     "metadata": {},
     "output_type": "execute_result"
    }
   ],
   "source": [
    "d1 #key value pairs"
   ]
  },
  {
   "cell_type": "code",
   "execution_count": 63,
   "id": "8c60e7eb-7db1-4e07-89fe-776f66ecfda7",
   "metadata": {},
   "outputs": [],
   "source": [
    "d2 = {\"name\":\"vamshi\",\"name\":\"bodige\"} #key should be unique or no duplicate"
   ]
  },
  {
   "cell_type": "code",
   "execution_count": 64,
   "id": "6b3d9219-47d5-45f7-9856-0bad3f697c10",
   "metadata": {},
   "outputs": [
    {
     "data": {
      "text/plain": [
       "{'name': 'bodige'}"
      ]
     },
     "execution_count": 64,
     "metadata": {},
     "output_type": "execute_result"
    }
   ],
   "source": [
    "d2 #no repeatation of words same like real dictionary it ill take bodige bcz it updated"
   ]
  },
  {
   "cell_type": "code",
   "execution_count": 65,
   "id": "980cd38b-10d2-45d7-9898-370201188f93",
   "metadata": {},
   "outputs": [],
   "source": [
    "d3 = {2324:\"vamshi\"} #key can be numeric"
   ]
  },
  {
   "cell_type": "code",
   "execution_count": 66,
   "id": "d6043623-e720-4b0e-b152-756890a7a846",
   "metadata": {},
   "outputs": [
    {
     "ename": "TypeError",
     "evalue": "unhashable type: 'list'",
     "output_type": "error",
     "traceback": [
      "\u001b[0;31m---------------------------------------------------------------------------\u001b[0m",
      "\u001b[0;31mTypeError\u001b[0m                                 Traceback (most recent call last)",
      "Cell \u001b[0;32mIn[66], line 1\u001b[0m\n\u001b[0;32m----> 1\u001b[0m d3 \u001b[38;5;241m=\u001b[39m {[\u001b[38;5;241m1\u001b[39m,\u001b[38;5;241m2\u001b[39m,\u001b[38;5;241m3\u001b[39m,\u001b[38;5;241m4\u001b[39m]:\u001b[38;5;124m\"\u001b[39m\u001b[38;5;124mvamsi\u001b[39m\u001b[38;5;124m\"\u001b[39m} \u001b[38;5;66;03m#key cant behave like list\u001b[39;00m\n",
      "\u001b[0;31mTypeError\u001b[0m: unhashable type: 'list'"
     ]
    }
   ],
   "source": [
    "d3 = {[1,2,3,4]:\"vamsi\"} #key cant behave like list"
   ]
  },
  {
   "cell_type": "code",
   "execution_count": 67,
   "id": "18afabdb-2e9e-4a0e-9d18-c1be742a8539",
   "metadata": {},
   "outputs": [
    {
     "ename": "TypeError",
     "evalue": "unhashable type: 'set'",
     "output_type": "error",
     "traceback": [
      "\u001b[0;31m---------------------------------------------------------------------------\u001b[0m",
      "\u001b[0;31mTypeError\u001b[0m                                 Traceback (most recent call last)",
      "Cell \u001b[0;32mIn[67], line 1\u001b[0m\n\u001b[0;32m----> 1\u001b[0m d4\u001b[38;5;241m=\u001b[39m{{\u001b[38;5;241m1\u001b[39m,\u001b[38;5;241m2\u001b[39m,\u001b[38;5;241m3\u001b[39m,\u001b[38;5;241m4\u001b[39m}:\u001b[38;5;124m\"\u001b[39m\u001b[38;5;124mvamsi\u001b[39m\u001b[38;5;124m\"\u001b[39m}  \u001b[38;5;66;03m#key cant behave like set\u001b[39;00m\n",
      "\u001b[0;31mTypeError\u001b[0m: unhashable type: 'set'"
     ]
    }
   ],
   "source": [
    "d4={{1,2,3,4}:\"vamsi\"}  #key cant behave like set"
   ]
  },
  {
   "cell_type": "code",
   "execution_count": 68,
   "id": "79367a7c-7a6e-44de-a532-88ce1d6d0cf1",
   "metadata": {},
   "outputs": [],
   "source": [
    "d4={(1,2,3,4):\"vamsi\"}#key can behave as a tuple"
   ]
  },
  {
   "cell_type": "code",
   "execution_count": 69,
   "id": "f82a90b2-faca-4ffb-9db9-3fc3ed4c8de0",
   "metadata": {},
   "outputs": [
    {
     "ename": "SyntaxError",
     "evalue": "invalid syntax (552378730.py, line 1)",
     "output_type": "error",
     "traceback": [
      "\u001b[0;36m  Cell \u001b[0;32mIn[69], line 1\u001b[0;36m\u001b[0m\n\u001b[0;31m    d4 = {%fsf :\"vamsh\"} #key cant be special characters\u001b[0m\n\u001b[0m          ^\u001b[0m\n\u001b[0;31mSyntaxError\u001b[0m\u001b[0;31m:\u001b[0m invalid syntax\n"
     ]
    }
   ],
   "source": [
    "d4 = {%fsf :\"vamsh\"} #key cant be special characters"
   ]
  },
  {
   "cell_type": "code",
   "execution_count": 70,
   "id": "084e9162-1819-4f62-9a0f-f2521b1bf54c",
   "metadata": {},
   "outputs": [],
   "source": [
    "d4 = {\"%fsf\" :\"vamsh\"} #key can be string but value wise it allow everything"
   ]
  },
  {
   "cell_type": "code",
   "execution_count": 71,
   "id": "9c2af736-aa75-4399-a95f-625e35fe9a1f",
   "metadata": {},
   "outputs": [],
   "source": [
    "d4 = {'course' : [\"python\",\"sql\",\"c\"],\"mentor\":(\"sudhanshu\",\"krish\",\"rama\"),\"price\":{12000,1500,1300},\"duration\":1,\"access year\":1,\"syllabus\":{\"python\":['core python','oops',\"pandas\",\"numpy\",\"db\",\"mongodb\"],\"ml\":['supervised','unsupervised','semi']}}"
   ]
  },
  {
   "cell_type": "code",
   "execution_count": 72,
   "id": "95521fe6-c9f2-4ca2-8a0d-11df635548a9",
   "metadata": {},
   "outputs": [
    {
     "data": {
      "text/plain": [
       "{'course': ['python', 'sql', 'c'],\n",
       " 'mentor': ('sudhanshu', 'krish', 'rama'),\n",
       " 'price': {1300, 1500, 12000},\n",
       " 'duration': 1,\n",
       " 'access year': 1,\n",
       " 'syllabus': {'python': ['core python',\n",
       "   'oops',\n",
       "   'pandas',\n",
       "   'numpy',\n",
       "   'db',\n",
       "   'mongodb'],\n",
       "  'ml': ['supervised', 'unsupervised', 'semi']}}"
      ]
     },
     "execution_count": 72,
     "metadata": {},
     "output_type": "execute_result"
    }
   ],
   "source": [
    "d4 #value wise we used list,tuple,set,string,numeric"
   ]
  },
  {
   "cell_type": "markdown",
   "id": "21cf098c-69da-41cb-9eea-da7bb5d4c48f",
   "metadata": {},
   "source": [
    "value can be duplicate but key cant be duplicate"
   ]
  },
  {
   "cell_type": "code",
   "execution_count": 73,
   "id": "c0a01e9d-a35b-4277-9759-a7f3989791fd",
   "metadata": {},
   "outputs": [
    {
     "data": {
      "text/plain": [
       "['python', 'sql', 'c']"
      ]
     },
     "execution_count": 73,
     "metadata": {},
     "output_type": "execute_result"
    }
   ],
   "source": [
    "d4['course']"
   ]
  },
  {
   "cell_type": "code",
   "execution_count": 74,
   "id": "ce1b36b2-5879-430b-85ae-e6cb010b040d",
   "metadata": {},
   "outputs": [
    {
     "data": {
      "text/plain": [
       "('sudhanshu', 'krish', 'rama')"
      ]
     },
     "execution_count": 74,
     "metadata": {},
     "output_type": "execute_result"
    }
   ],
   "source": [
    "d4[\"mentor\"]"
   ]
  },
  {
   "cell_type": "code",
   "execution_count": 75,
   "id": "bb01190e-6893-4060-9cf1-7c3bd3893736",
   "metadata": {},
   "outputs": [
    {
     "data": {
      "text/plain": [
       "{1300, 1500, 12000}"
      ]
     },
     "execution_count": 75,
     "metadata": {},
     "output_type": "execute_result"
    }
   ],
   "source": [
    "d4[\"price\"]\n"
   ]
  },
  {
   "cell_type": "code",
   "execution_count": 76,
   "id": "3b7d4bc3-4947-419a-8c70-2897ec73762d",
   "metadata": {},
   "outputs": [
    {
     "data": {
      "text/plain": [
       "{'name': 'bodige'}"
      ]
     },
     "execution_count": 76,
     "metadata": {},
     "output_type": "execute_result"
    }
   ],
   "source": [
    "d2"
   ]
  },
  {
   "cell_type": "code",
   "execution_count": 77,
   "id": "a8a16b9b-9e85-475e-b18a-6a52415e6b7c",
   "metadata": {},
   "outputs": [],
   "source": [
    "d2['phone no'] = 4644788784282"
   ]
  },
  {
   "cell_type": "code",
   "execution_count": 78,
   "id": "2c6583ff-a790-4c0e-a471-f2b5a77c4df6",
   "metadata": {},
   "outputs": [
    {
     "data": {
      "text/plain": [
       "{'name': 'bodige', 'phone no': 4644788784282}"
      ]
     },
     "execution_count": 78,
     "metadata": {},
     "output_type": "execute_result"
    }
   ],
   "source": [
    "d2"
   ]
  },
  {
   "cell_type": "code",
   "execution_count": 79,
   "id": "b9f03583-306a-46bd-afd8-eb2be9518c97",
   "metadata": {},
   "outputs": [],
   "source": [
    "d2['name'] = \"vamsj\""
   ]
  },
  {
   "cell_type": "code",
   "execution_count": 80,
   "id": "ddf86c96-ab51-42bc-a2c8-e22c5a3d78c3",
   "metadata": {},
   "outputs": [
    {
     "data": {
      "text/plain": [
       "{'name': 'vamsj', 'phone no': 4644788784282}"
      ]
     },
     "execution_count": 80,
     "metadata": {},
     "output_type": "execute_result"
    }
   ],
   "source": [
    "d2"
   ]
  },
  {
   "cell_type": "markdown",
   "id": "a295c4cd-ad18-4529-89b6-4f3b7e67e1d3",
   "metadata": {},
   "source": [
    "Overview\n",
    "1.string\n",
    "2.list\n",
    "3.tuple\n",
    "4.set\n",
    "5.dictionary\n",
    "now check inbuilt functions"
   ]
  },
  {
   "cell_type": "code",
   "execution_count": 81,
   "id": "4661360e-dab8-4932-b08c-27c09467fb60",
   "metadata": {},
   "outputs": [],
   "source": [
    "s1 = \"pwskills\""
   ]
  },
  {
   "cell_type": "code",
   "execution_count": 82,
   "id": "02330db0-683c-4689-8cb4-15481b8cc1aa",
   "metadata": {},
   "outputs": [
    {
     "data": {
      "text/plain": [
       "2"
      ]
     },
     "execution_count": 82,
     "metadata": {},
     "output_type": "execute_result"
    }
   ],
   "source": [
    "s1.count('l')      #shift+tab gives explanation\n",
    "#s1.press tab you will see available operations"
   ]
  },
  {
   "cell_type": "code",
   "execution_count": 83,
   "id": "0e442ca6-c3cc-4551-a301-d87bdff99db2",
   "metadata": {},
   "outputs": [
    {
     "data": {
      "text/plain": [
       "2"
      ]
     },
     "execution_count": 83,
     "metadata": {},
     "output_type": "execute_result"
    }
   ],
   "source": [
    "s1.find('s') #finding first index of s,it give indexes"
   ]
  },
  {
   "cell_type": "code",
   "execution_count": 84,
   "id": "bcc67a26-3880-4f11-81ff-5bae6ac7b164",
   "metadata": {},
   "outputs": [
    {
     "data": {
      "text/plain": [
       "0"
      ]
     },
     "execution_count": 84,
     "metadata": {},
     "output_type": "execute_result"
    }
   ],
   "source": [
    "s1.index('p')"
   ]
  },
  {
   "cell_type": "code",
   "execution_count": 85,
   "id": "6c70eacf-a229-4276-82a4-8490a700062c",
   "metadata": {},
   "outputs": [
    {
     "ename": "ValueError",
     "evalue": "substring not found",
     "output_type": "error",
     "traceback": [
      "\u001b[0;31m---------------------------------------------------------------------------\u001b[0m",
      "\u001b[0;31mValueError\u001b[0m                                Traceback (most recent call last)",
      "Cell \u001b[0;32mIn[85], line 1\u001b[0m\n\u001b[0;32m----> 1\u001b[0m \u001b[43ms1\u001b[49m\u001b[38;5;241;43m.\u001b[39;49m\u001b[43mindex\u001b[49m\u001b[43m(\u001b[49m\u001b[38;5;124;43m\"\u001b[39;49m\u001b[38;5;124;43mz\u001b[39;49m\u001b[38;5;124;43m\"\u001b[39;49m\u001b[43m)\u001b[49m\n",
      "\u001b[0;31mValueError\u001b[0m: substring not found"
     ]
    }
   ],
   "source": [
    "s1.index(\"z\")"
   ]
  },
  {
   "cell_type": "code",
   "execution_count": 86,
   "id": "b886fe5e-bc49-487e-b51a-48d61ea6d2e2",
   "metadata": {},
   "outputs": [
    {
     "data": {
      "text/plain": [
       "'PWSKILLS'"
      ]
     },
     "execution_count": 86,
     "metadata": {},
     "output_type": "execute_result"
    }
   ],
   "source": [
    "s1.upper()"
   ]
  },
  {
   "cell_type": "code",
   "execution_count": 87,
   "id": "2df36205-9e8b-4fad-8d84-29b9937bff81",
   "metadata": {},
   "outputs": [
    {
     "data": {
      "text/plain": [
       "'Pwskills'"
      ]
     },
     "execution_count": 87,
     "metadata": {},
     "output_type": "execute_result"
    }
   ],
   "source": [
    "s1.title()"
   ]
  },
  {
   "cell_type": "code",
   "execution_count": 88,
   "id": "0c08dd56-6968-4c34-b485-86952b1c9040",
   "metadata": {},
   "outputs": [],
   "source": [
    "s2 = \"my name is vamshi\""
   ]
  },
  {
   "cell_type": "code",
   "execution_count": 89,
   "id": "49c923fb-77ab-4d94-84de-c8626ad5fa88",
   "metadata": {},
   "outputs": [
    {
     "data": {
      "text/plain": [
       "'My Name Is Vamshi'"
      ]
     },
     "execution_count": 89,
     "metadata": {},
     "output_type": "execute_result"
    }
   ],
   "source": [
    "s2.title()"
   ]
  },
  {
   "cell_type": "code",
   "execution_count": 90,
   "id": "070c389a-cafd-4180-bb98-725948f28724",
   "metadata": {},
   "outputs": [
    {
     "data": {
      "text/plain": [
       "['my', 'name', 'is', 'vamshi']"
      ]
     },
     "execution_count": 90,
     "metadata": {},
     "output_type": "execute_result"
    }
   ],
   "source": [
    "s2.split() #split always returns list"
   ]
  },
  {
   "cell_type": "code",
   "execution_count": 91,
   "id": "6c339245-4167-4d19-b7c0-7e6986d20a46",
   "metadata": {},
   "outputs": [],
   "source": [
    "s3 = \"my name,sudhanshu,kumar\""
   ]
  },
  {
   "cell_type": "code",
   "execution_count": 92,
   "id": "a946466c-a959-4238-8059-5f12d05776be",
   "metadata": {},
   "outputs": [
    {
     "data": {
      "text/plain": [
       "['my', 'name,sudhanshu,kumar']"
      ]
     },
     "execution_count": 92,
     "metadata": {},
     "output_type": "execute_result"
    }
   ],
   "source": [
    "s3.split() #separator will be a space ,it split based on space or comma"
   ]
  },
  {
   "cell_type": "code",
   "execution_count": 93,
   "id": "fdf88ddc-2ae2-4f9d-8531-1e7bddf16d28",
   "metadata": {},
   "outputs": [
    {
     "data": {
      "text/plain": [
       "['my name,', 'udhan', 'hu,kumar']"
      ]
     },
     "execution_count": 93,
     "metadata": {},
     "output_type": "execute_result"
    }
   ],
   "source": [
    "s3.split(\"s\") #split data whereever we have s"
   ]
  },
  {
   "cell_type": "code",
   "execution_count": 94,
   "id": "b4dc5279-f259-4309-841e-78be0e534e1b",
   "metadata": {},
   "outputs": [],
   "source": [
    "s4 = \"this is my fsds pro class. i am attending this class for 4th time\""
   ]
  },
  {
   "cell_type": "code",
   "execution_count": 95,
   "id": "0c440ede-2fbe-4677-a7e6-1ae64ba010ab",
   "metadata": {},
   "outputs": [
    {
     "data": {
      "text/plain": [
       "'this is my fsds pro class'"
      ]
     },
     "execution_count": 95,
     "metadata": {},
     "output_type": "execute_result"
    }
   ],
   "source": [
    "s4.split(\".\")[0]"
   ]
  },
  {
   "cell_type": "code",
   "execution_count": 96,
   "id": "dd300173-fb08-4236-8747-88b29e7689f7",
   "metadata": {},
   "outputs": [
    {
     "data": {
      "text/plain": [
       "' i am attending this class for 4th time'"
      ]
     },
     "execution_count": 96,
     "metadata": {},
     "output_type": "execute_result"
    }
   ],
   "source": [
    "s4.split(\".\")[1]"
   ]
  },
  {
   "cell_type": "code",
   "execution_count": 97,
   "id": "b7460b2e-e386-4860-81fb-6a071cd132d1",
   "metadata": {},
   "outputs": [
    {
     "data": {
      "text/plain": [
       "['this is my fsds pro class', ' i am attending this class for 4th time']"
      ]
     },
     "execution_count": 97,
     "metadata": {},
     "output_type": "execute_result"
    }
   ],
   "source": [
    "s4.split(\".\")"
   ]
  },
  {
   "cell_type": "code",
   "execution_count": 98,
   "id": "2a0649da-1a62-4f14-b12e-268b4ec0bc68",
   "metadata": {},
   "outputs": [
    {
     "data": {
      "text/plain": [
       "'my name,sudhanshu,kumar'"
      ]
     },
     "execution_count": 98,
     "metadata": {},
     "output_type": "execute_result"
    }
   ],
   "source": [
    "s3"
   ]
  },
  {
   "cell_type": "code",
   "execution_count": 99,
   "id": "4b1c0646-882c-4c8c-b6ea-f6173e08c817",
   "metadata": {},
   "outputs": [
    {
     "data": {
      "text/plain": [
       "'pwskills'"
      ]
     },
     "execution_count": 99,
     "metadata": {},
     "output_type": "execute_result"
    }
   ],
   "source": [
    "s1"
   ]
  },
  {
   "cell_type": "code",
   "execution_count": 100,
   "id": "7923d198-f80c-42fe-af5f-e3fc52e01cea",
   "metadata": {},
   "outputs": [
    {
     "data": {
      "text/plain": [
       "'My name is vamshi'"
      ]
     },
     "execution_count": 100,
     "metadata": {},
     "output_type": "execute_result"
    }
   ],
   "source": [
    "s2.capitalize()"
   ]
  },
  {
   "cell_type": "code",
   "execution_count": 101,
   "id": "0a5d673c-c1e8-40ba-97e3-19721c585f65",
   "metadata": {},
   "outputs": [
    {
     "data": {
      "text/plain": [
       "'My Name Is Vamshi'"
      ]
     },
     "execution_count": 101,
     "metadata": {},
     "output_type": "execute_result"
    }
   ],
   "source": [
    "s2.title()"
   ]
  },
  {
   "cell_type": "code",
   "execution_count": 102,
   "id": "e030d548-8787-4780-8db1-e8a16c2df695",
   "metadata": {},
   "outputs": [
    {
     "data": {
      "text/plain": [
       "'my aame is vamshi'"
      ]
     },
     "execution_count": 102,
     "metadata": {},
     "output_type": "execute_result"
    }
   ],
   "source": [
    "s2.replace(\"n\",'a')"
   ]
  },
  {
   "cell_type": "code",
   "execution_count": 103,
   "id": "95b5c391-08c1-4800-8a83-f7a92fb49889",
   "metadata": {},
   "outputs": [
    {
     "data": {
      "text/plain": [
       "'my name is vamshi'"
      ]
     },
     "execution_count": 103,
     "metadata": {},
     "output_type": "execute_result"
    }
   ],
   "source": [
    "s2"
   ]
  },
  {
   "cell_type": "code",
   "execution_count": 104,
   "id": "a4dc85dc-2071-4de4-a25f-80062be9244e",
   "metadata": {},
   "outputs": [
    {
     "data": {
      "text/plain": [
       "'ffffffffffffffffpwskillsffffffffffffffff'"
      ]
     },
     "execution_count": 104,
     "metadata": {},
     "output_type": "execute_result"
    }
   ],
   "source": [
    "s1.center(40,\"f\")"
   ]
  },
  {
   "cell_type": "code",
   "execution_count": 105,
   "id": "5baa9049-4964-4dd5-b35d-972e9ba7f5a9",
   "metadata": {},
   "outputs": [
    {
     "data": {
      "text/plain": [
       "'pwskills'"
      ]
     },
     "execution_count": 105,
     "metadata": {},
     "output_type": "execute_result"
    }
   ],
   "source": [
    "s1.rstrip()"
   ]
  },
  {
   "cell_type": "code",
   "execution_count": 106,
   "id": "764e48e2-2191-402b-8dcf-ea750d5d05df",
   "metadata": {},
   "outputs": [],
   "source": [
    "s5 = \"  pwskills  \""
   ]
  },
  {
   "cell_type": "code",
   "execution_count": 107,
   "id": "201af732-131b-4aa4-a16e-4f0fec6375ee",
   "metadata": {},
   "outputs": [
    {
     "data": {
      "text/plain": [
       "'  pwskills'"
      ]
     },
     "execution_count": 107,
     "metadata": {},
     "output_type": "execute_result"
    }
   ],
   "source": [
    "s5.rstrip()"
   ]
  },
  {
   "cell_type": "code",
   "execution_count": 108,
   "id": "83d6e2d2-1036-4638-9dcd-09b997f9a9a8",
   "metadata": {},
   "outputs": [
    {
     "data": {
      "text/plain": [
       "'pwskills  '"
      ]
     },
     "execution_count": 108,
     "metadata": {},
     "output_type": "execute_result"
    }
   ],
   "source": [
    "s5.lstrip()"
   ]
  },
  {
   "cell_type": "code",
   "execution_count": 109,
   "id": "edf8c042-0689-4baa-b8fa-cb682d4c905a",
   "metadata": {},
   "outputs": [
    {
     "data": {
      "text/plain": [
       "'my name is vamshi'"
      ]
     },
     "execution_count": 109,
     "metadata": {},
     "output_type": "execute_result"
    }
   ],
   "source": [
    "s2"
   ]
  },
  {
   "cell_type": "code",
   "execution_count": 110,
   "id": "eb56fb38-f292-4ab1-abb3-c20e610670b5",
   "metadata": {},
   "outputs": [
    {
     "data": {
      "text/plain": [
       "'pwskills'"
      ]
     },
     "execution_count": 110,
     "metadata": {},
     "output_type": "execute_result"
    }
   ],
   "source": [
    "s1"
   ]
  },
  {
   "cell_type": "code",
   "execution_count": 111,
   "id": "dbdc500c-dbd3-4f96-83a8-6946ad189714",
   "metadata": {},
   "outputs": [
    {
     "data": {
      "text/plain": [
       "True"
      ]
     },
     "execution_count": 111,
     "metadata": {},
     "output_type": "execute_result"
    }
   ],
   "source": [
    "s1.isalnum() #alphanum"
   ]
  },
  {
   "cell_type": "code",
   "execution_count": 112,
   "id": "ba055756-2abb-45f0-ad76-683e54aa9b28",
   "metadata": {},
   "outputs": [
    {
     "data": {
      "text/plain": [
       "True"
      ]
     },
     "execution_count": 112,
     "metadata": {},
     "output_type": "execute_result"
    }
   ],
   "source": [
    "s1.isalpha()"
   ]
  },
  {
   "cell_type": "code",
   "execution_count": 113,
   "id": "b469ac32-e0a9-460b-8afb-0f6e8fc9c98b",
   "metadata": {},
   "outputs": [
    {
     "data": {
      "text/plain": [
       "False"
      ]
     },
     "execution_count": 113,
     "metadata": {},
     "output_type": "execute_result"
    }
   ],
   "source": [
    "s1.isnumeric()"
   ]
  },
  {
   "cell_type": "code",
   "execution_count": 114,
   "id": "d4857ffe-c931-434b-a821-34543d626154",
   "metadata": {},
   "outputs": [
    {
     "data": {
      "text/plain": [
       "True"
      ]
     },
     "execution_count": 114,
     "metadata": {},
     "output_type": "execute_result"
    }
   ],
   "source": [
    "s1.islower()"
   ]
  },
  {
   "cell_type": "code",
   "execution_count": 115,
   "id": "da7d26a3-315c-4151-b830-23227b0af421",
   "metadata": {},
   "outputs": [
    {
     "data": {
      "text/plain": [
       "[1, 2, 3, 4, 5, 'vamshi', 'bodige', (2+6j), 1.0, True, [1, 2, 3, 4]]"
      ]
     },
     "execution_count": 115,
     "metadata": {},
     "output_type": "execute_result"
    }
   ],
   "source": [
    "l1 "
   ]
  },
  {
   "cell_type": "code",
   "execution_count": 116,
   "id": "d0c212cb-512b-451b-bb23-e75abaef90dc",
   "metadata": {},
   "outputs": [],
   "source": [
    "l1.append(\"sagar\")"
   ]
  },
  {
   "cell_type": "code",
   "execution_count": 117,
   "id": "9f9678da-bcf7-4033-8a29-e9bd1053ac24",
   "metadata": {},
   "outputs": [
    {
     "data": {
      "text/plain": [
       "[1, 2, 3, 4, 5, 'vamshi', 'bodige', (2+6j), 1.0, True, [1, 2, 3, 4], 'sagar']"
      ]
     },
     "execution_count": 117,
     "metadata": {},
     "output_type": "execute_result"
    }
   ],
   "source": [
    "l1"
   ]
  },
  {
   "cell_type": "code",
   "execution_count": 118,
   "id": "3daab584-e4aa-42f9-820d-fc21ea5d9d0a",
   "metadata": {},
   "outputs": [],
   "source": [
    "l1.insert(0,\"sagar\")"
   ]
  },
  {
   "cell_type": "code",
   "execution_count": 119,
   "id": "fedd73e4-4271-4ff3-b1d1-167b8379d759",
   "metadata": {},
   "outputs": [
    {
     "data": {
      "text/plain": [
       "['sagar',\n",
       " 1,\n",
       " 2,\n",
       " 3,\n",
       " 4,\n",
       " 5,\n",
       " 'vamshi',\n",
       " 'bodige',\n",
       " (2+6j),\n",
       " 1.0,\n",
       " True,\n",
       " [1, 2, 3, 4],\n",
       " 'sagar']"
      ]
     },
     "execution_count": 119,
     "metadata": {},
     "output_type": "execute_result"
    }
   ],
   "source": [
    "l1"
   ]
  },
  {
   "cell_type": "code",
   "execution_count": 120,
   "id": "32bad3d3-1d2f-42e7-8568-b40df40ec751",
   "metadata": {},
   "outputs": [],
   "source": [
    "l1.remove(\"sagar\")"
   ]
  },
  {
   "cell_type": "code",
   "execution_count": 121,
   "id": "413e3105-34f3-46fe-a10d-c8ea772bfc69",
   "metadata": {},
   "outputs": [
    {
     "data": {
      "text/plain": [
       "[1, 2, 3, 4, 5, 'vamshi', 'bodige', (2+6j), 1.0, True, [1, 2, 3, 4], 'sagar']"
      ]
     },
     "execution_count": 121,
     "metadata": {},
     "output_type": "execute_result"
    }
   ],
   "source": [
    "l1"
   ]
  },
  {
   "cell_type": "code",
   "execution_count": 122,
   "id": "5c3280dc-e13b-4f6d-9e24-60061ebc843c",
   "metadata": {},
   "outputs": [],
   "source": [
    "l2.extend(\"sudh\")"
   ]
  },
  {
   "cell_type": "code",
   "execution_count": 123,
   "id": "b05a1430-f3b6-4bab-88e6-05005aa0ab8f",
   "metadata": {},
   "outputs": [
    {
     "data": {
      "text/plain": [
       "[300, 4, 5, 'pwskills', 'vamshi', 's', 'u', 'd', 'h']"
      ]
     },
     "execution_count": 123,
     "metadata": {},
     "output_type": "execute_result"
    }
   ],
   "source": [
    "l2"
   ]
  },
  {
   "cell_type": "code",
   "execution_count": 124,
   "id": "56d0ba95-a445-4348-9c2a-272e3bbe7e11",
   "metadata": {},
   "outputs": [],
   "source": [
    "l2.append(\"sudh\")"
   ]
  },
  {
   "cell_type": "code",
   "execution_count": 125,
   "id": "7e71fd32-fdc8-44ea-b4bf-99ffe98d0c85",
   "metadata": {},
   "outputs": [
    {
     "data": {
      "text/plain": [
       "[300, 4, 5, 'pwskills', 'vamshi', 's', 'u', 'd', 'h', 'sudh']"
      ]
     },
     "execution_count": 125,
     "metadata": {},
     "output_type": "execute_result"
    }
   ],
   "source": [
    "l2"
   ]
  },
  {
   "cell_type": "code",
   "execution_count": 126,
   "id": "918c5bbe-76f3-424c-83a9-aedc298b6b6b",
   "metadata": {},
   "outputs": [],
   "source": [
    "l2.insert(2,\"sudh\")"
   ]
  },
  {
   "cell_type": "code",
   "execution_count": 127,
   "id": "5a65eaf9-6fde-4174-b0de-0403de718e3e",
   "metadata": {},
   "outputs": [
    {
     "data": {
      "text/plain": [
       "[300, 4, 'sudh', 5, 'pwskills', 'vamshi', 's', 'u', 'd', 'h', 'sudh']"
      ]
     },
     "execution_count": 127,
     "metadata": {},
     "output_type": "execute_result"
    }
   ],
   "source": [
    "l2"
   ]
  },
  {
   "cell_type": "code",
   "execution_count": 128,
   "id": "00e8c9b4-7c96-43ef-aef9-440fbe6075bb",
   "metadata": {},
   "outputs": [],
   "source": [
    "l2.extend(\"sudh\") #trying to call split internally and then trying to extend"
   ]
  },
  {
   "cell_type": "code",
   "execution_count": 129,
   "id": "29692162-4b46-4545-b118-d75204064ddc",
   "metadata": {},
   "outputs": [
    {
     "data": {
      "text/plain": [
       "[300,\n",
       " 4,\n",
       " 'sudh',\n",
       " 5,\n",
       " 'pwskills',\n",
       " 'vamshi',\n",
       " 's',\n",
       " 'u',\n",
       " 'd',\n",
       " 'h',\n",
       " 'sudh',\n",
       " 's',\n",
       " 'u',\n",
       " 'd',\n",
       " 'h']"
      ]
     },
     "execution_count": 129,
     "metadata": {},
     "output_type": "execute_result"
    }
   ],
   "source": [
    "l2"
   ]
  },
  {
   "cell_type": "code",
   "execution_count": 130,
   "id": "d7b12e52-2eff-4a49-81c9-208d7332ef77",
   "metadata": {},
   "outputs": [],
   "source": [
    "l3 = [1,2,3,4,5]"
   ]
  },
  {
   "cell_type": "code",
   "execution_count": 131,
   "id": "1602f416-ecc9-4791-82d8-e930c822d641",
   "metadata": {},
   "outputs": [],
   "source": [
    "l3.append([1,2,3])"
   ]
  },
  {
   "cell_type": "code",
   "execution_count": 132,
   "id": "e774cf2a-6112-4818-91f1-f0f5416cc498",
   "metadata": {},
   "outputs": [
    {
     "data": {
      "text/plain": [
       "[1, 2, 3, 4, 5, [1, 2, 3]]"
      ]
     },
     "execution_count": 132,
     "metadata": {},
     "output_type": "execute_result"
    }
   ],
   "source": [
    "l3"
   ]
  },
  {
   "cell_type": "code",
   "execution_count": 133,
   "id": "63b3bdbc-e54a-48b9-9ded-9a78f1b595e9",
   "metadata": {},
   "outputs": [],
   "source": [
    "l3.insert(1,[6,7,8])"
   ]
  },
  {
   "cell_type": "code",
   "execution_count": 134,
   "id": "953a46ba-0716-430a-8a71-b9a639ee8408",
   "metadata": {},
   "outputs": [
    {
     "data": {
      "text/plain": [
       "[1, [6, 7, 8], 2, 3, 4, 5, [1, 2, 3]]"
      ]
     },
     "execution_count": 134,
     "metadata": {},
     "output_type": "execute_result"
    }
   ],
   "source": [
    "l3"
   ]
  },
  {
   "cell_type": "code",
   "execution_count": 135,
   "id": "502c230f-3a60-486d-b01a-c634eebc414f",
   "metadata": {},
   "outputs": [],
   "source": [
    "l3.extend([4,5,6]) #it is inserting as a individual element not as list"
   ]
  },
  {
   "cell_type": "code",
   "execution_count": 136,
   "id": "778dec3f-aa1b-4d83-83b2-ec58752808f7",
   "metadata": {},
   "outputs": [
    {
     "data": {
      "text/plain": [
       "[1, [6, 7, 8], 2, 3, 4, 5, [1, 2, 3], 4, 5, 6]"
      ]
     },
     "execution_count": 136,
     "metadata": {},
     "output_type": "execute_result"
    }
   ],
   "source": [
    "l3"
   ]
  },
  {
   "cell_type": "code",
   "execution_count": 137,
   "id": "1018c585-c2a7-450b-8823-4491a08d8a6a",
   "metadata": {},
   "outputs": [
    {
     "data": {
      "text/plain": [
       "6"
      ]
     },
     "execution_count": 137,
     "metadata": {},
     "output_type": "execute_result"
    }
   ],
   "source": [
    "l3.pop() #deleting data from last"
   ]
  },
  {
   "cell_type": "code",
   "execution_count": 138,
   "id": "bd09473e-799a-4e56-81be-4224ec9775f2",
   "metadata": {},
   "outputs": [
    {
     "data": {
      "text/plain": [
       "[1, [6, 7, 8], 2, 3, 4, 5, [1, 2, 3], 4, 5]"
      ]
     },
     "execution_count": 138,
     "metadata": {},
     "output_type": "execute_result"
    }
   ],
   "source": [
    "l3"
   ]
  },
  {
   "cell_type": "code",
   "execution_count": 139,
   "id": "a05afc0a-60b5-4027-93c6-a02e8e8e5f73",
   "metadata": {},
   "outputs": [
    {
     "data": {
      "text/plain": [
       "[6, 7, 8]"
      ]
     },
     "execution_count": 139,
     "metadata": {},
     "output_type": "execute_result"
    }
   ],
   "source": [
    "l3.pop(1) #popping second index"
   ]
  },
  {
   "cell_type": "code",
   "execution_count": 140,
   "id": "5bf8635e-5edf-47c8-a7c7-e3aaac91530d",
   "metadata": {},
   "outputs": [
    {
     "data": {
      "text/plain": [
       "[1, 2, 3, 4, 5, [1, 2, 3], 4, 5]"
      ]
     },
     "execution_count": 140,
     "metadata": {},
     "output_type": "execute_result"
    }
   ],
   "source": [
    "l3"
   ]
  },
  {
   "cell_type": "code",
   "execution_count": 141,
   "id": "3cbc65b0-b69f-4f8e-88ba-6d38b18673f5",
   "metadata": {},
   "outputs": [],
   "source": [
    "del l3"
   ]
  },
  {
   "cell_type": "code",
   "execution_count": 142,
   "id": "3542bab3-d595-47e0-b604-d6a55f41e77c",
   "metadata": {},
   "outputs": [
    {
     "ename": "NameError",
     "evalue": "name 'l3' is not defined",
     "output_type": "error",
     "traceback": [
      "\u001b[0;31m---------------------------------------------------------------------------\u001b[0m",
      "\u001b[0;31mNameError\u001b[0m                                 Traceback (most recent call last)",
      "Cell \u001b[0;32mIn[142], line 1\u001b[0m\n\u001b[0;32m----> 1\u001b[0m \u001b[43ml3\u001b[49m\n",
      "\u001b[0;31mNameError\u001b[0m: name 'l3' is not defined"
     ]
    }
   ],
   "source": [
    "l3"
   ]
  },
  {
   "cell_type": "code",
   "execution_count": 143,
   "id": "be21448b-b4ac-4f77-b909-d1ba5b14c706",
   "metadata": {},
   "outputs": [
    {
     "data": {
      "text/plain": [
       "'my name is vamshi'"
      ]
     },
     "execution_count": 143,
     "metadata": {},
     "output_type": "execute_result"
    }
   ],
   "source": [
    "s2"
   ]
  },
  {
   "cell_type": "code",
   "execution_count": 144,
   "id": "73b4e3a1-cc64-4ab5-9d8d-478059722e3e",
   "metadata": {},
   "outputs": [],
   "source": [
    "del s2"
   ]
  },
  {
   "cell_type": "code",
   "execution_count": 145,
   "id": "f0ff17c3-de9e-40fd-83cf-b7808c89f36c",
   "metadata": {},
   "outputs": [
    {
     "ename": "NameError",
     "evalue": "name 's2' is not defined",
     "output_type": "error",
     "traceback": [
      "\u001b[0;31m---------------------------------------------------------------------------\u001b[0m",
      "\u001b[0;31mNameError\u001b[0m                                 Traceback (most recent call last)",
      "Cell \u001b[0;32mIn[145], line 1\u001b[0m\n\u001b[0;32m----> 1\u001b[0m \u001b[43ms2\u001b[49m\n",
      "\u001b[0;31mNameError\u001b[0m: name 's2' is not defined"
     ]
    }
   ],
   "source": [
    "s2"
   ]
  },
  {
   "cell_type": "code",
   "execution_count": 146,
   "id": "028b571e-93df-4c1d-a1c3-611808cb3521",
   "metadata": {},
   "outputs": [
    {
     "data": {
      "text/plain": [
       "[300,\n",
       " 4,\n",
       " 'sudh',\n",
       " 5,\n",
       " 'pwskills',\n",
       " 'vamshi',\n",
       " 's',\n",
       " 'u',\n",
       " 'd',\n",
       " 'h',\n",
       " 'sudh',\n",
       " 's',\n",
       " 'u',\n",
       " 'd',\n",
       " 'h']"
      ]
     },
     "execution_count": 146,
     "metadata": {},
     "output_type": "execute_result"
    }
   ],
   "source": [
    "l2"
   ]
  },
  {
   "cell_type": "code",
   "execution_count": 147,
   "id": "f818b6e3-ec14-486e-bfc3-4ea9160ab706",
   "metadata": {},
   "outputs": [],
   "source": [
    "l2.remove(\"s\") #remove at first ocuurence"
   ]
  },
  {
   "cell_type": "code",
   "execution_count": 148,
   "id": "f878fd3e-392d-4340-9ea2-289350fdff2a",
   "metadata": {},
   "outputs": [
    {
     "data": {
      "text/plain": [
       "[300,\n",
       " 4,\n",
       " 'sudh',\n",
       " 5,\n",
       " 'pwskills',\n",
       " 'vamshi',\n",
       " 'u',\n",
       " 'd',\n",
       " 'h',\n",
       " 'sudh',\n",
       " 's',\n",
       " 'u',\n",
       " 'd',\n",
       " 'h']"
      ]
     },
     "execution_count": 148,
     "metadata": {},
     "output_type": "execute_result"
    }
   ],
   "source": [
    "l2"
   ]
  },
  {
   "cell_type": "code",
   "execution_count": 149,
   "id": "ba8c69af-e3f3-4cbb-8856-cea7a04189d3",
   "metadata": {},
   "outputs": [
    {
     "ename": "IndexError",
     "evalue": "pop index out of range",
     "output_type": "error",
     "traceback": [
      "\u001b[0;31m---------------------------------------------------------------------------\u001b[0m",
      "\u001b[0;31mIndexError\u001b[0m                                Traceback (most recent call last)",
      "Cell \u001b[0;32mIn[149], line 1\u001b[0m\n\u001b[0;32m----> 1\u001b[0m \u001b[43ml2\u001b[49m\u001b[38;5;241;43m.\u001b[39;49m\u001b[43mpop\u001b[49m\u001b[43m(\u001b[49m\u001b[38;5;241;43m1000\u001b[39;49m\u001b[43m)\u001b[49m\n",
      "\u001b[0;31mIndexError\u001b[0m: pop index out of range"
     ]
    }
   ],
   "source": [
    "l2.pop(1000)"
   ]
  },
  {
   "cell_type": "code",
   "execution_count": 150,
   "id": "52fe016e-5879-48bf-b542-984a3f7c713d",
   "metadata": {},
   "outputs": [],
   "source": [
    "l1.clear()"
   ]
  },
  {
   "cell_type": "code",
   "execution_count": 151,
   "id": "3f7cba63-f312-4326-ba4f-c1520930ec5f",
   "metadata": {},
   "outputs": [
    {
     "data": {
      "text/plain": [
       "[]"
      ]
     },
     "execution_count": 151,
     "metadata": {},
     "output_type": "execute_result"
    }
   ],
   "source": [
    "l1"
   ]
  },
  {
   "cell_type": "code",
   "execution_count": 152,
   "id": "989bc722-22c6-4fba-b6ae-b4e2eea836e5",
   "metadata": {},
   "outputs": [
    {
     "data": {
      "text/plain": [
       "[300,\n",
       " 4,\n",
       " 'sudh',\n",
       " 5,\n",
       " 'pwskills',\n",
       " 'vamshi',\n",
       " 'u',\n",
       " 'd',\n",
       " 'h',\n",
       " 'sudh',\n",
       " 's',\n",
       " 'u',\n",
       " 'd',\n",
       " 'h']"
      ]
     },
     "execution_count": 152,
     "metadata": {},
     "output_type": "execute_result"
    }
   ],
   "source": [
    "l2"
   ]
  },
  {
   "cell_type": "code",
   "execution_count": 153,
   "id": "1874c56d-f5cf-4087-a634-fde85cdf9668",
   "metadata": {},
   "outputs": [
    {
     "data": {
      "text/plain": [
       "2"
      ]
     },
     "execution_count": 153,
     "metadata": {},
     "output_type": "execute_result"
    }
   ],
   "source": [
    "l2.count(\"sudh\")"
   ]
  },
  {
   "cell_type": "code",
   "execution_count": 154,
   "id": "99006161-048b-40f7-827b-a1ee817c4d61",
   "metadata": {},
   "outputs": [
    {
     "data": {
      "text/plain": [
       "2"
      ]
     },
     "execution_count": 154,
     "metadata": {},
     "output_type": "execute_result"
    }
   ],
   "source": [
    "l2.index(\"sudh\")"
   ]
  },
  {
   "cell_type": "code",
   "execution_count": 155,
   "id": "1a2a11a8-efed-4080-ac49-fda6ffa6f3d8",
   "metadata": {},
   "outputs": [
    {
     "data": {
      "text/plain": [
       "[300,\n",
       " 4,\n",
       " 'sudh',\n",
       " 5,\n",
       " 'pwskills',\n",
       " 'vamshi',\n",
       " 'u',\n",
       " 'd',\n",
       " 'h',\n",
       " 'sudh',\n",
       " 's',\n",
       " 'u',\n",
       " 'd',\n",
       " 'h']"
      ]
     },
     "execution_count": 155,
     "metadata": {},
     "output_type": "execute_result"
    }
   ],
   "source": [
    "l2.reverse() or l2[::-1]"
   ]
  },
  {
   "cell_type": "code",
   "execution_count": 156,
   "id": "b2a320c3-bb1f-4af4-99c6-605c4e5cd5c2",
   "metadata": {},
   "outputs": [
    {
     "data": {
      "text/plain": [
       "['h',\n",
       " 'd',\n",
       " 'u',\n",
       " 's',\n",
       " 'sudh',\n",
       " 'h',\n",
       " 'd',\n",
       " 'u',\n",
       " 'vamshi',\n",
       " 'pwskills',\n",
       " 5,\n",
       " 'sudh',\n",
       " 4,\n",
       " 300]"
      ]
     },
     "execution_count": 156,
     "metadata": {},
     "output_type": "execute_result"
    }
   ],
   "source": [
    "l2"
   ]
  },
  {
   "cell_type": "code",
   "execution_count": 157,
   "id": "5af06f86-d228-4a4a-8b16-d999337fd5d8",
   "metadata": {},
   "outputs": [
    {
     "ename": "TypeError",
     "evalue": "'<' not supported between instances of 'int' and 'str'",
     "output_type": "error",
     "traceback": [
      "\u001b[0;31m---------------------------------------------------------------------------\u001b[0m",
      "\u001b[0;31mTypeError\u001b[0m                                 Traceback (most recent call last)",
      "Cell \u001b[0;32mIn[157], line 1\u001b[0m\n\u001b[0;32m----> 1\u001b[0m \u001b[43ml2\u001b[49m\u001b[38;5;241;43m.\u001b[39;49m\u001b[43msort\u001b[49m\u001b[43m(\u001b[49m\u001b[43m)\u001b[49m\n",
      "\u001b[0;31mTypeError\u001b[0m: '<' not supported between instances of 'int' and 'str'"
     ]
    }
   ],
   "source": [
    "l2.sort()\n"
   ]
  },
  {
   "cell_type": "code",
   "execution_count": 158,
   "id": "33bf6cb0-0832-477f-9520-7781fe179855",
   "metadata": {},
   "outputs": [
    {
     "data": {
      "text/plain": [
       "['d',\n",
       " 'd',\n",
       " 'h',\n",
       " 'h',\n",
       " 'pwskills',\n",
       " 's',\n",
       " 'sudh',\n",
       " 'u',\n",
       " 'u',\n",
       " 'vamshi',\n",
       " 5,\n",
       " 'sudh',\n",
       " 4,\n",
       " 300]"
      ]
     },
     "execution_count": 158,
     "metadata": {},
     "output_type": "execute_result"
    }
   ],
   "source": [
    "l2"
   ]
  },
  {
   "cell_type": "code",
   "execution_count": 159,
   "id": "77293822-5235-4e1c-b828-59b62cd77ee5",
   "metadata": {},
   "outputs": [],
   "source": [
    "l3 = [5,3,1,5,56]\n"
   ]
  },
  {
   "cell_type": "code",
   "execution_count": 160,
   "id": "c3cc9d34-3e73-424e-ac50-f79d3c44dfeb",
   "metadata": {},
   "outputs": [],
   "source": [
    "l3.sort()"
   ]
  },
  {
   "cell_type": "code",
   "execution_count": 161,
   "id": "e451ebc0-b114-448e-a9f1-ef16ac57b999",
   "metadata": {},
   "outputs": [
    {
     "data": {
      "text/plain": [
       "[1, 3, 5, 5, 56]"
      ]
     },
     "execution_count": 161,
     "metadata": {},
     "output_type": "execute_result"
    }
   ],
   "source": [
    "l3"
   ]
  },
  {
   "cell_type": "code",
   "execution_count": 162,
   "id": "23b1dc13-425b-47af-a096-8ea6ddd6229b",
   "metadata": {},
   "outputs": [],
   "source": [
    "list4 = [\"sudh\",\"kumar\",\"abcd\"]"
   ]
  },
  {
   "cell_type": "code",
   "execution_count": 163,
   "id": "dd456616-3042-4c8d-8ffa-7a514a45f715",
   "metadata": {},
   "outputs": [],
   "source": [
    "list4.sort()"
   ]
  },
  {
   "cell_type": "code",
   "execution_count": 164,
   "id": "92e894d1-7831-43f2-901d-705f19d10cbd",
   "metadata": {},
   "outputs": [
    {
     "data": {
      "text/plain": [
       "['abcd', 'kumar', 'sudh']"
      ]
     },
     "execution_count": 164,
     "metadata": {},
     "output_type": "execute_result"
    }
   ],
   "source": [
    "list4"
   ]
  },
  {
   "cell_type": "code",
   "execution_count": 165,
   "id": "94830e95-cb7a-4914-98e7-4dbba0dc71f2",
   "metadata": {},
   "outputs": [],
   "source": [
    "l4 = set(l3)"
   ]
  },
  {
   "cell_type": "code",
   "execution_count": 166,
   "id": "6595d255-a054-4a52-9fbb-886db1707bbd",
   "metadata": {},
   "outputs": [],
   "source": [
    "l6 = list(l4)"
   ]
  },
  {
   "cell_type": "code",
   "execution_count": 167,
   "id": "f97a99ae-3c45-4c75-adb1-34473f862ac4",
   "metadata": {},
   "outputs": [],
   "source": [
    "l6.sort()"
   ]
  },
  {
   "cell_type": "code",
   "execution_count": 168,
   "id": "b34a77be-64d5-4c9e-9118-2a442ef73f53",
   "metadata": {},
   "outputs": [
    {
     "data": {
      "text/plain": [
       "[1, 3, 5, 56]"
      ]
     },
     "execution_count": 168,
     "metadata": {},
     "output_type": "execute_result"
    }
   ],
   "source": [
    "l6"
   ]
  },
  {
   "cell_type": "code",
   "execution_count": 169,
   "id": "2ff870db-f2c6-4283-a503-1501ff4e5a7c",
   "metadata": {},
   "outputs": [],
   "source": [
    "l0 = [2,3,4,5,]"
   ]
  },
  {
   "cell_type": "code",
   "execution_count": 170,
   "id": "4c66f950-8de0-4768-b359-9b9ed65d48d9",
   "metadata": {},
   "outputs": [],
   "source": [
    "l1 = l0"
   ]
  },
  {
   "cell_type": "code",
   "execution_count": 171,
   "id": "f0931679-2fa1-4338-bd2c-b51bd544bf18",
   "metadata": {},
   "outputs": [
    {
     "data": {
      "text/plain": [
       "[2, 3, 4, 5]"
      ]
     },
     "execution_count": 171,
     "metadata": {},
     "output_type": "execute_result"
    }
   ],
   "source": [
    "l1"
   ]
  },
  {
   "cell_type": "code",
   "execution_count": 172,
   "id": "fc6bcf52-7ed9-4ae6-a055-4d4a19e75765",
   "metadata": {},
   "outputs": [
    {
     "data": {
      "text/plain": [
       "[2, 3, 4, 5]"
      ]
     },
     "execution_count": 172,
     "metadata": {},
     "output_type": "execute_result"
    }
   ],
   "source": [
    "l0"
   ]
  },
  {
   "cell_type": "code",
   "execution_count": 173,
   "id": "29c4d381-2dce-459c-91ab-9673bb9db4b3",
   "metadata": {},
   "outputs": [],
   "source": [
    "l0[0]=200"
   ]
  },
  {
   "cell_type": "code",
   "execution_count": 174,
   "id": "3fbdcbb5-e4da-48e9-9f10-9d414bacca95",
   "metadata": {},
   "outputs": [
    {
     "data": {
      "text/plain": [
       "[200, 3, 4, 5]"
      ]
     },
     "execution_count": 174,
     "metadata": {},
     "output_type": "execute_result"
    }
   ],
   "source": [
    "l0"
   ]
  },
  {
   "cell_type": "code",
   "execution_count": 175,
   "id": "c172c64c-4a3a-45c1-a242-6ef747592f32",
   "metadata": {},
   "outputs": [
    {
     "data": {
      "text/plain": [
       "[200, 3, 4, 5]"
      ]
     },
     "execution_count": 175,
     "metadata": {},
     "output_type": "execute_result"
    }
   ],
   "source": [
    "l1"
   ]
  },
  {
   "cell_type": "code",
   "execution_count": 176,
   "id": "b2fa9902-f327-4267-bb6f-028ef3845296",
   "metadata": {},
   "outputs": [],
   "source": [
    "l2 = l0.copy() #deep copy"
   ]
  },
  {
   "cell_type": "code",
   "execution_count": 177,
   "id": "448fe7ad-b1d6-4850-8704-76f7b9fc5401",
   "metadata": {},
   "outputs": [
    {
     "data": {
      "text/plain": [
       "[200, 3, 4, 5]"
      ]
     },
     "execution_count": 177,
     "metadata": {},
     "output_type": "execute_result"
    }
   ],
   "source": [
    "l2"
   ]
  },
  {
   "cell_type": "code",
   "execution_count": 178,
   "id": "68811337-089d-48d0-b9cb-3ec1c3c9b271",
   "metadata": {},
   "outputs": [
    {
     "data": {
      "text/plain": [
       "[200, 3, 4, 5]"
      ]
     },
     "execution_count": 178,
     "metadata": {},
     "output_type": "execute_result"
    }
   ],
   "source": [
    "l0"
   ]
  },
  {
   "cell_type": "code",
   "execution_count": 179,
   "id": "722a5562-84e0-4f4d-83de-6311514aa100",
   "metadata": {},
   "outputs": [],
   "source": [
    "l0[1] = 300 #shallow copy"
   ]
  },
  {
   "cell_type": "code",
   "execution_count": 180,
   "id": "4d522dc0-0b1b-4e67-ac99-fb234294d049",
   "metadata": {},
   "outputs": [
    {
     "data": {
      "text/plain": [
       "[200, 300, 4, 5]"
      ]
     },
     "execution_count": 180,
     "metadata": {},
     "output_type": "execute_result"
    }
   ],
   "source": [
    "l0"
   ]
  },
  {
   "cell_type": "code",
   "execution_count": 181,
   "id": "1992f83c-95bd-486a-a6f5-1bfd882905ff",
   "metadata": {},
   "outputs": [
    {
     "data": {
      "text/plain": [
       "[200, 300, 4, 5]"
      ]
     },
     "execution_count": 181,
     "metadata": {},
     "output_type": "execute_result"
    }
   ],
   "source": [
    "l1"
   ]
  },
  {
   "cell_type": "code",
   "execution_count": 182,
   "id": "41ec1b5b-7aad-417f-8c84-6a71b8fbe0ce",
   "metadata": {},
   "outputs": [
    {
     "data": {
      "text/plain": [
       "[200, 3, 4, 5]"
      ]
     },
     "execution_count": 182,
     "metadata": {},
     "output_type": "execute_result"
    }
   ],
   "source": [
    "l2"
   ]
  },
  {
   "cell_type": "code",
   "execution_count": 183,
   "id": "87687325-da24-446b-b0cc-8748ddd2b4d9",
   "metadata": {},
   "outputs": [
    {
     "data": {
      "text/plain": [
       "(0, 1, 2, 3, 'vamshi', 'bodige', (4+56j), True)"
      ]
     },
     "execution_count": 183,
     "metadata": {},
     "output_type": "execute_result"
    }
   ],
   "source": [
    "t"
   ]
  },
  {
   "cell_type": "code",
   "execution_count": 188,
   "id": "eb6ea158-de7a-4c2c-b120-6dcb849cd1cc",
   "metadata": {},
   "outputs": [
    {
     "data": {
      "text/plain": [
       "1"
      ]
     },
     "execution_count": 188,
     "metadata": {},
     "output_type": "execute_result"
    }
   ],
   "source": [
    "t.count(3) #tuples only have two functions"
   ]
  },
  {
   "cell_type": "code",
   "execution_count": 187,
   "id": "45614a3d-359f-4618-bf8a-ac42f1533f3f",
   "metadata": {},
   "outputs": [
    {
     "data": {
      "text/plain": [
       "4"
      ]
     },
     "execution_count": 187,
     "metadata": {},
     "output_type": "execute_result"
    }
   ],
   "source": [
    "t.index(\"vamshi\")"
   ]
  },
  {
   "cell_type": "code",
   "execution_count": 189,
   "id": "c859b4d1-8091-4171-afe8-f8241e729a31",
   "metadata": {},
   "outputs": [
    {
     "data": {
      "text/plain": [
       "{}"
      ]
     },
     "execution_count": 189,
     "metadata": {},
     "output_type": "execute_result"
    }
   ],
   "source": [
    "s"
   ]
  },
  {
   "cell_type": "code",
   "execution_count": 190,
   "id": "cf100f6d-e3e6-4e73-8d89-9c8816e827d7",
   "metadata": {},
   "outputs": [],
   "source": [
    "s={3,4,54,5,5,45,3,3,3,34,4,4,6}"
   ]
  },
  {
   "cell_type": "code",
   "execution_count": 191,
   "id": "17266f3b-2040-4324-baa5-e76c7e4e6c3d",
   "metadata": {},
   "outputs": [
    {
     "data": {
      "text/plain": [
       "set"
      ]
     },
     "execution_count": 191,
     "metadata": {},
     "output_type": "execute_result"
    }
   ],
   "source": [
    "type(s)"
   ]
  },
  {
   "cell_type": "code",
   "execution_count": 192,
   "id": "d23c0546-14a2-4855-ae01-c1aaa999c1d9",
   "metadata": {},
   "outputs": [],
   "source": [
    "s.add(234)"
   ]
  },
  {
   "cell_type": "code",
   "execution_count": 193,
   "id": "c5aab674-a2b2-434d-952c-1e6ebba597a2",
   "metadata": {},
   "outputs": [
    {
     "data": {
      "text/plain": [
       "{3, 4, 5, 6, 34, 45, 54, 234}"
      ]
     },
     "execution_count": 193,
     "metadata": {},
     "output_type": "execute_result"
    }
   ],
   "source": [
    "s"
   ]
  },
  {
   "cell_type": "code",
   "execution_count": 196,
   "id": "6533f4e4-962f-4f4d-b6a7-c5ef18add68a",
   "metadata": {},
   "outputs": [],
   "source": [
    "s.add(4) #4 is already there same output\n"
   ]
  },
  {
   "cell_type": "code",
   "execution_count": 195,
   "id": "eedd417b-537d-4295-8fb5-99ba8d640e00",
   "metadata": {},
   "outputs": [
    {
     "data": {
      "text/plain": [
       "{3, 4, 5, 6, 34, 45, 54, 234}"
      ]
     },
     "execution_count": 195,
     "metadata": {},
     "output_type": "execute_result"
    }
   ],
   "source": [
    "s"
   ]
  },
  {
   "cell_type": "code",
   "execution_count": 197,
   "id": "75358e29-ac26-4c29-b509-a6ac46d93296",
   "metadata": {},
   "outputs": [
    {
     "data": {
      "text/plain": [
       "{3, 4, 5, 6, 34, 45, 54, 234}"
      ]
     },
     "execution_count": 197,
     "metadata": {},
     "output_type": "execute_result"
    }
   ],
   "source": [
    "s.copy()"
   ]
  },
  {
   "cell_type": "code",
   "execution_count": 199,
   "id": "549593df-e465-4f04-ab47-241f65e3fc0d",
   "metadata": {},
   "outputs": [],
   "source": [
    "s.discard(3)"
   ]
  },
  {
   "cell_type": "code",
   "execution_count": 200,
   "id": "38a25703-f7d9-4443-a589-487dbc7e7bdc",
   "metadata": {},
   "outputs": [
    {
     "data": {
      "text/plain": [
       "{4, 5, 6, 34, 45, 54, 234}"
      ]
     },
     "execution_count": 200,
     "metadata": {},
     "output_type": "execute_result"
    }
   ],
   "source": [
    "s"
   ]
  },
  {
   "cell_type": "code",
   "execution_count": 201,
   "id": "f77d35c0-5238-46e5-ae3d-11826079a7e0",
   "metadata": {},
   "outputs": [
    {
     "data": {
      "text/plain": [
       "34"
      ]
     },
     "execution_count": 201,
     "metadata": {},
     "output_type": "execute_result"
    }
   ],
   "source": [
    "s.pop()"
   ]
  },
  {
   "cell_type": "code",
   "execution_count": 202,
   "id": "c785d69c-57da-48a8-88cd-781a0119d5f8",
   "metadata": {},
   "outputs": [
    {
     "data": {
      "text/plain": [
       "4"
      ]
     },
     "execution_count": 202,
     "metadata": {},
     "output_type": "execute_result"
    }
   ],
   "source": [
    "s.pop()"
   ]
  },
  {
   "cell_type": "code",
   "execution_count": 203,
   "id": "51777bee-c883-48be-9f85-8043d6434f1f",
   "metadata": {},
   "outputs": [
    {
     "data": {
      "text/plain": [
       "5"
      ]
     },
     "execution_count": 203,
     "metadata": {},
     "output_type": "execute_result"
    }
   ],
   "source": [
    "s.pop()"
   ]
  },
  {
   "cell_type": "code",
   "execution_count": 207,
   "id": "818c2dda-53e1-4242-9136-73171d8fc5b3",
   "metadata": {},
   "outputs": [],
   "source": [
    "s.remove(234)"
   ]
  },
  {
   "cell_type": "code",
   "execution_count": 208,
   "id": "c83fe4f0-2ddb-4f88-9776-04bde4640059",
   "metadata": {},
   "outputs": [
    {
     "data": {
      "text/plain": [
       "{6, 45, 54}"
      ]
     },
     "execution_count": 208,
     "metadata": {},
     "output_type": "execute_result"
    }
   ],
   "source": [
    "s"
   ]
  },
  {
   "cell_type": "code",
   "execution_count": 209,
   "id": "59241568-dfef-4d9c-8703-4cb3a3f44c8c",
   "metadata": {},
   "outputs": [
    {
     "data": {
      "text/plain": [
       "{'name': 'vamshi',\n",
       " 'surname': 'bodige',\n",
       " 'study': ['masters', 'bachelors'],\n",
       " 'number': 1244444}"
      ]
     },
     "execution_count": 209,
     "metadata": {},
     "output_type": "execute_result"
    }
   ],
   "source": [
    "d1"
   ]
  },
  {
   "cell_type": "code",
   "execution_count": 212,
   "id": "59c8580e-c57e-4ff6-b719-0f17b4417fe9",
   "metadata": {},
   "outputs": [
    {
     "data": {
      "text/plain": [
       "['name', 'surname', 'study', 'number']"
      ]
     },
     "execution_count": 212,
     "metadata": {},
     "output_type": "execute_result"
    }
   ],
   "source": [
    "list(d1.keys())"
   ]
  },
  {
   "cell_type": "code",
   "execution_count": 213,
   "id": "bdd4cfaf-2100-4de0-96c0-18b7bb3a1589",
   "metadata": {},
   "outputs": [
    {
     "data": {
      "text/plain": [
       "dict_values(['vamshi', 'bodige', ['masters', 'bachelors'], 1244444])"
      ]
     },
     "execution_count": 213,
     "metadata": {},
     "output_type": "execute_result"
    }
   ],
   "source": [
    "d1.values()"
   ]
  },
  {
   "cell_type": "code",
   "execution_count": 214,
   "id": "574f8355-b189-4870-8fbc-ac45c0e1fce8",
   "metadata": {},
   "outputs": [
    {
     "data": {
      "text/plain": [
       "['vamshi', 'bodige', ['masters', 'bachelors'], 1244444]"
      ]
     },
     "execution_count": 214,
     "metadata": {},
     "output_type": "execute_result"
    }
   ],
   "source": [
    "list(d1.values())"
   ]
  },
  {
   "cell_type": "code",
   "execution_count": 215,
   "id": "d9157d3c-dea3-4745-a67c-f74b069d6aec",
   "metadata": {},
   "outputs": [
    {
     "data": {
      "text/plain": [
       "dict_items([('name', 'vamshi'), ('surname', 'bodige'), ('study', ['masters', 'bachelors']), ('number', 1244444)])"
      ]
     },
     "execution_count": 215,
     "metadata": {},
     "output_type": "execute_result"
    }
   ],
   "source": [
    "d1.items()"
   ]
  },
  {
   "cell_type": "code",
   "execution_count": 216,
   "id": "4d37be97-46d2-42fd-a462-e45ce2cb5715",
   "metadata": {},
   "outputs": [
    {
     "data": {
      "text/plain": [
       "[('name', 'vamshi'),\n",
       " ('surname', 'bodige'),\n",
       " ('study', ['masters', 'bachelors']),\n",
       " ('number', 1244444)]"
      ]
     },
     "execution_count": 216,
     "metadata": {},
     "output_type": "execute_result"
    }
   ],
   "source": [
    "list(d1.items())"
   ]
  },
  {
   "cell_type": "code",
   "execution_count": 217,
   "id": "b5837a1b-8fd6-49f4-940d-5d196476b6c9",
   "metadata": {},
   "outputs": [
    {
     "data": {
      "text/plain": [
       "'vamshi'"
      ]
     },
     "execution_count": 217,
     "metadata": {},
     "output_type": "execute_result"
    }
   ],
   "source": [
    "d1.get(\"name\")"
   ]
  },
  {
   "cell_type": "code",
   "execution_count": 218,
   "id": "ff538e71-2407-43e6-a4b9-e72de4d95ab0",
   "metadata": {},
   "outputs": [
    {
     "data": {
      "text/plain": [
       "'vamshi'"
      ]
     },
     "execution_count": 218,
     "metadata": {},
     "output_type": "execute_result"
    }
   ],
   "source": [
    "d1['name']"
   ]
  },
  {
   "cell_type": "code",
   "execution_count": 219,
   "id": "8eff18fa-2e86-4062-923d-1fff7a5e5d1c",
   "metadata": {},
   "outputs": [
    {
     "data": {
      "text/plain": [
       "'vamshi'"
      ]
     },
     "execution_count": 219,
     "metadata": {},
     "output_type": "execute_result"
    }
   ],
   "source": [
    "d1.pop('name')"
   ]
  },
  {
   "cell_type": "code",
   "execution_count": 220,
   "id": "79b9cecc-00e2-468f-b591-3c0854dbedcb",
   "metadata": {},
   "outputs": [
    {
     "data": {
      "text/plain": [
       "{'surname': 'bodige', 'study': ['masters', 'bachelors'], 'number': 1244444}"
      ]
     },
     "execution_count": 220,
     "metadata": {},
     "output_type": "execute_result"
    }
   ],
   "source": [
    "d1"
   ]
  },
  {
   "cell_type": "code",
   "execution_count": 221,
   "id": "74891b1b-cc95-4f38-81e9-2068cf74a1fa",
   "metadata": {},
   "outputs": [],
   "source": [
    "d1['test']=\"dilama\""
   ]
  },
  {
   "cell_type": "code",
   "execution_count": 222,
   "id": "06f8db64-9e0f-4c7c-be31-c19cfbf282e5",
   "metadata": {},
   "outputs": [
    {
     "data": {
      "text/plain": [
       "{'surname': 'bodige',\n",
       " 'study': ['masters', 'bachelors'],\n",
       " 'number': 1244444,\n",
       " 'test': 'dilama'}"
      ]
     },
     "execution_count": 222,
     "metadata": {},
     "output_type": "execute_result"
    }
   ],
   "source": [
    "d1"
   ]
  },
  {
   "cell_type": "code",
   "execution_count": null,
   "id": "2ab39359-9cae-475a-8750-16373793db36",
   "metadata": {},
   "outputs": [],
   "source": []
  }
 ],
 "metadata": {
  "kernelspec": {
   "display_name": "Python 3 (ipykernel)",
   "language": "python",
   "name": "python3"
  },
  "language_info": {
   "codemirror_mode": {
    "name": "ipython",
    "version": 3
   },
   "file_extension": ".py",
   "mimetype": "text/x-python",
   "name": "python",
   "nbconvert_exporter": "python",
   "pygments_lexer": "ipython3",
   "version": "3.10.8"
  }
 },
 "nbformat": 4,
 "nbformat_minor": 5
}
